{
 "cells": [
  {
   "cell_type": "code",
   "execution_count": 1,
   "id": "07063bab-3d0a-41ce-8a3a-1cf3af6e7dec",
   "metadata": {},
   "outputs": [],
   "source": [
    "import cv2\n",
    "import random"
   ]
  },
  {
   "cell_type": "code",
   "execution_count": 2,
   "id": "7993f094-a72e-48a1-966e-ceeddde38b2a",
   "metadata": {},
   "outputs": [],
   "source": [
    "import mediapipe as mp\n",
    "import pyautogui\n",
    "import basics # a separate .py file\n",
    "from pynput.mouse import Button, Controller\n",
    "mouse = Controller()"
   ]
  },
  {
   "cell_type": "code",
   "execution_count": 3,
   "id": "3cb701ee-a17d-433e-a6d5-8dc68bfba78b",
   "metadata": {},
   "outputs": [],
   "source": [
    "pyautogui.FAILSAFE = False"
   ]
  },
  {
   "cell_type": "code",
   "execution_count": 4,
   "id": "f16cb3b2-5507-4b4d-8e3d-bca59555f67a",
   "metadata": {},
   "outputs": [],
   "source": [
    "screen_width, screen_height = pyautogui.size()\n",
    "mpHands = mp.solutions.hands\n",
    "hands = mpHands.Hands(\n",
    "    static_image_mode = False, # video is being captured\n",
    "    model_complexity=1, # be more complex\n",
    "    min_detection_confidence = 0.7, # confidence level while detecting\n",
    "    min_tracking_confidence = 0.7, # confidence level while tracking\n",
    "    max_num_hands = 1 # only one hand to be detected\n",
    ")"
   ]
  },
  {
   "cell_type": "markdown",
   "id": "bf472e0d-b805-4d4f-a265-7c743e85e7f5",
   "metadata": {},
   "source": [
    "Visit [Mediapipe](https://mediapipe.readthedocs.io/en/latest/solutions/hands.html) to learn more on Hand Landmarks"
   ]
  },
  {
   "cell_type": "code",
   "execution_count": 5,
   "id": "7b6ac3ff-c413-4d1d-a8f1-1536652faee5",
   "metadata": {},
   "outputs": [],
   "source": [
    "def find_finger_tip(processed):\n",
    "    if processed.multi_hand_landmarks[0]:\n",
    "        hand_landmarks = processed.multi_hand_landmarks[0]\n",
    "        return hand_landmarks.landmark[mpHands.HandLandmark.INDEX_FINGER_TIP]\n",
    "\n",
    "    return None"
   ]
  },
  {
   "cell_type": "code",
   "execution_count": 6,
   "id": "8d754c1e-bec0-4e97-b8e9-3e8eab4ed411",
   "metadata": {},
   "outputs": [],
   "source": [
    "def move_mouse(index_finger_tip):\n",
    "    if index_finger_tip is not None:\n",
    "        x = int(index_finger_tip.x *1.25* screen_width)\n",
    "        y = int(index_finger_tip.y *1.5* screen_height)\n",
    "\n",
    "        pyautogui.moveTo(x, y)"
   ]
  },
  {
   "cell_type": "code",
   "execution_count": 7,
   "id": "c705f9a5-b05b-4377-b1c0-d2873252e337",
   "metadata": {},
   "outputs": [],
  },
  {
   "cell_type": "code",
   "execution_count": 8,
   "id": "012907ed-822e-4d1b-b1cf-9948b79af032",
   "metadata": {},
   "outputs": [],
   "source": [
    "# Left Click conditions\n",
    "def is_left_click(landmarks_list, thumb_index_dist):\n",
    "    return (basics.get_angle(landmarks_list[5], landmarks_list[6], landmarks_list[8]) < 50 and \n",
    "            basics.get_angle(landmarks_list[9], landmarks_list[10], landmarks_list[12]) > 90 and\n",
    "           thumb_index_dist > 50)\n",
    "\n",
    "# Right Click conditions\n",
    "def is_right_click(landmarks_list, thumb_index_dist):\n",
    "    return (basics.get_angle(landmarks_list[9], landmarks_list[10], landmarks_list[12]) < 50 and \n",
    "            basics.get_angle(landmarks_list[5], landmarks_list[6], landmarks_list[8]) > 90 and\n",
    "           thumb_index_dist > 50)\n",
    "\n",
    "# Double click conditions\n",
    "def is_double_click(landmarks_list, thumb_index_dist):\n",
    "    return (basics.get_angle(landmarks_list[5], landmarks_list[6], landmarks_list[8]) < 50 and \n",
    "            basics.get_angle(landmarks_list[9], landmarks_list[10], landmarks_list[12]) < 50 and\n",
    "           thumb_index_dist > 50)\n",
    "\n",
    "# screenshot conditions\n",
    "def is_screenshot(landmarks_list, thumb_index_dist):\n",
    "    return (basics.get_angle(landmarks_list[5], landmarks_list[6], landmarks_list[8]) < 50 and \n",
    "            basics.get_angle(landmarks_list[9], landmarks_list[10], landmarks_list[12]) < 50 and\n",
    "           thumb_index_dist < 50)"
   ]
  },
  {
   "cell_type": "code",
   "execution_count": 9,
   "id": "6080628c-e8c8-4ac8-9d39-e3591957c23a",
   "metadata": {},
   "outputs": [],
   "source": [
    "# Conditions for mouse movement\n",
    "def detect_gestures(frame, landmarks_list, processed):\n",
    "    if len(landmarks_list) >= 21:\n",
    "        \n",
    "        index_finger_tip = find_finger_tip(processed) # Mouse movement is now based on the index finger tip\n",
    "        thumb_index_dist = basics.get_distance([landmarks_list[4], landmarks_list[5]])\n",
    "\n",
    "        if thumb_index_dist < 50 and basics.get_angle(landmarks_list[5], landmarks_list[6], landmarks_list[8]) > 90:\n",
    "            move_mouse(index_finger_tip)\n",
    "        \n",
    "        # Left Click\n",
    "        elif is_left_click(landmarks_list, thumb_index_dist):\n",
    "            mouse.press(Button.left)\n",
    "            mouse.release(Button.left)\n",
    "            cv2.putText(frame, 'Left click', (50, 50), cv2.FONT_HERSHEY_SIMPLEX, 1, (0, 255, 0), 2) # Puts a text on the frame\n",
    "            \n",
    "        # Right Click\n",
    "        elif is_right_click(landmarks_list, thumb_index_dist):\n",
    "            mouse.press(Button.right)\n",
    "            mouse.release(Button.right)\n",
    "            cv2.putText(frame, 'Right click', (50, 50), cv2.FONT_HERSHEY_SIMPLEX, 1, (0, 0, 255), 2) # Label\n",
    "        \n",
    "        # Doublie clicking\n",
    "        elif is_double_click(landmarks_list, thumb_index_dist):\n",
    "            pyautogui.doubleClick()\n",
    "            cv2.putText(frame, 'Double click', (50, 50), cv2.FONT_HERSHEY_SIMPLEX, 1, (0, 255, 255), 2)\n",
    "        \n",
    "        # Screenshot\n",
    "        elif is_screenshot(landmarks_list, thumb_index_dist):\n",
    "            image1 = pyautogui.screenshot() # screenshot image\n",
    "            label = random.randint(1, 1000) # Label using random numbers from 1 to 1000\n",
    "            image1.save(f'Screenshot_{label}.png') # Embend characters to the integer labels\n",
    "            cv2.putText(frame, \"Screenshot taken\", (50, 50), cv2.FONT_HERSHEY_SIMPLEX, 1, (255, 255, 255), 2)"
   ]
  },
  {
   "cell_type": "code",
   "execution_count": 10,
   "id": "14a1bf08-5a20-41a2-bed3-79d6827b9ed7",
   "metadata": {},
   "outputs": [
    {
     "name": "stderr",
     "output_type": "stream",
     "text": [
      "C:\\Users\\cheru\\anaconda3\\Lib\\site-packages\\google\\protobuf\\symbol_database.py:55: UserWarning: SymbolDatabase.GetPrototype() is deprecated. Please use message_factory.GetMessageClass() instead. SymbolDatabase.GetPrototype() will be removed soon.\n",
      "  warnings.warn('SymbolDatabase.GetPrototype() is deprecated. Please '\n"
     ]
    },
    {
     "ename": "ValueError",
     "evalue": "unknown file extension: ",
     "output_type": "error",
     "traceback": [
      "\u001b[1;31m---------------------------------------------------------------------------\u001b[0m",
      "\u001b[1;31mKeyError\u001b[0m                                  Traceback (most recent call last)",
      "File \u001b[1;32m~\\anaconda3\\Lib\\site-packages\\PIL\\Image.py:2416\u001b[0m, in \u001b[0;36mImage.save\u001b[1;34m(self, fp, format, **params)\u001b[0m\n\u001b[0;32m   2415\u001b[0m \u001b[38;5;28;01mtry\u001b[39;00m:\n\u001b[1;32m-> 2416\u001b[0m     \u001b[38;5;28mformat\u001b[39m \u001b[38;5;241m=\u001b[39m EXTENSION[ext]\n\u001b[0;32m   2417\u001b[0m \u001b[38;5;28;01mexcept\u001b[39;00m \u001b[38;5;167;01mKeyError\u001b[39;00m \u001b[38;5;28;01mas\u001b[39;00m e:\n",
      "\u001b[1;31mKeyError\u001b[0m: ''",
      "\nThe above exception was the direct cause of the following exception:\n",
      "\u001b[1;31mValueError\u001b[0m                                Traceback (most recent call last)",
      "Cell \u001b[1;32mIn[10], line 34\u001b[0m\n\u001b[0;32m     31\u001b[0m         cv2\u001b[38;5;241m.\u001b[39mdestroyAllWindows()\n\u001b[0;32m     33\u001b[0m \u001b[38;5;28;01mif\u001b[39;00m \u001b[38;5;18m__name__\u001b[39m \u001b[38;5;241m==\u001b[39m \u001b[38;5;124m'\u001b[39m\u001b[38;5;124m__main__\u001b[39m\u001b[38;5;124m'\u001b[39m: \u001b[38;5;66;03m# If the code is copied into any other file, it won't run. It will only run here\u001b[39;00m\n\u001b[1;32m---> 34\u001b[0m     main()\n",
      "Cell \u001b[1;32mIn[10], line 23\u001b[0m, in \u001b[0;36mmain\u001b[1;34m()\u001b[0m\n\u001b[0;32m     20\u001b[0m     \u001b[38;5;28;01mfor\u001b[39;00m lm \u001b[38;5;129;01min\u001b[39;00m hand_landmarks\u001b[38;5;241m.\u001b[39mlandmark:\n\u001b[0;32m     21\u001b[0m        landmarks_list\u001b[38;5;241m.\u001b[39mappend((lm\u001b[38;5;241m.\u001b[39mx, lm\u001b[38;5;241m.\u001b[39my))\n\u001b[1;32m---> 23\u001b[0m detect_gestures(frame, landmarks_list, processed)\n\u001b[0;32m     25\u001b[0m cv2\u001b[38;5;241m.\u001b[39mimshow(\u001b[38;5;124m'\u001b[39m\u001b[38;5;124mFrame\u001b[39m\u001b[38;5;124m'\u001b[39m, frame)\n\u001b[0;32m     26\u001b[0m \u001b[38;5;28;01mif\u001b[39;00m cv2\u001b[38;5;241m.\u001b[39mwaitKey(\u001b[38;5;241m1\u001b[39m) \u001b[38;5;241m&\u001b[39m \u001b[38;5;241m0xFF\u001b[39m \u001b[38;5;241m==\u001b[39m \u001b[38;5;28mord\u001b[39m(\u001b[38;5;124m'\u001b[39m\u001b[38;5;124mq\u001b[39m\u001b[38;5;124m'\u001b[39m): \u001b[38;5;66;03m# press q to shut down the camera\u001b[39;00m\n",
      "Cell \u001b[1;32mIn[9], line 30\u001b[0m, in \u001b[0;36mdetect_gestures\u001b[1;34m(frame, landmarks_list, processed)\u001b[0m\n\u001b[0;32m     28\u001b[0m \u001b[38;5;66;03m# Screenshot\u001b[39;00m\n\u001b[0;32m     29\u001b[0m \u001b[38;5;28;01melif\u001b[39;00m is_screenshot(landmarks_list, thumb_index_dist):\n\u001b[1;32m---> 30\u001b[0m     image1 \u001b[38;5;241m=\u001b[39m pyautogui\u001b[38;5;241m.\u001b[39mscreenshot(\u001b[38;5;241m1\u001b[39m) \u001b[38;5;66;03m# screenshot image\u001b[39;00m\n\u001b[0;32m     31\u001b[0m     label \u001b[38;5;241m=\u001b[39m random\u001b[38;5;241m.\u001b[39mrandint(\u001b[38;5;241m1\u001b[39m, \u001b[38;5;241m1000\u001b[39m) \u001b[38;5;66;03m# Label using random numbers from 1 to 1000\u001b[39;00m\n\u001b[0;32m     32\u001b[0m     image1\u001b[38;5;241m.\u001b[39msave(\u001b[38;5;124mf\u001b[39m\u001b[38;5;124m'\u001b[39m\u001b[38;5;124mScreenshot_\u001b[39m\u001b[38;5;132;01m{\u001b[39;00mlabel\u001b[38;5;132;01m}\u001b[39;00m\u001b[38;5;124m.png\u001b[39m\u001b[38;5;124m'\u001b[39m) \u001b[38;5;66;03m# Embend characters to the integer labels\u001b[39;00m\n",
      "File \u001b[1;32m~\\anaconda3\\Lib\\site-packages\\pyscreeze\\__init__.py:544\u001b[0m, in \u001b[0;36m_screenshot_win32\u001b[1;34m(imageFilename, region, allScreens)\u001b[0m\n\u001b[0;32m    542\u001b[0m     im \u001b[38;5;241m=\u001b[39m im\u001b[38;5;241m.\u001b[39mcrop((region[\u001b[38;5;241m0\u001b[39m], region[\u001b[38;5;241m1\u001b[39m], region[\u001b[38;5;241m2\u001b[39m] \u001b[38;5;241m+\u001b[39m region[\u001b[38;5;241m0\u001b[39m], region[\u001b[38;5;241m3\u001b[39m] \u001b[38;5;241m+\u001b[39m region[\u001b[38;5;241m1\u001b[39m]))\n\u001b[0;32m    543\u001b[0m \u001b[38;5;28;01mif\u001b[39;00m imageFilename \u001b[38;5;129;01mis\u001b[39;00m \u001b[38;5;129;01mnot\u001b[39;00m \u001b[38;5;28;01mNone\u001b[39;00m:\n\u001b[1;32m--> 544\u001b[0m     im\u001b[38;5;241m.\u001b[39msave(imageFilename)\n\u001b[0;32m    545\u001b[0m \u001b[38;5;28;01mreturn\u001b[39;00m im\n",
      "File \u001b[1;32m~\\anaconda3\\Lib\\site-packages\\PIL\\Image.py:2419\u001b[0m, in \u001b[0;36mImage.save\u001b[1;34m(self, fp, format, **params)\u001b[0m\n\u001b[0;32m   2417\u001b[0m     \u001b[38;5;28;01mexcept\u001b[39;00m \u001b[38;5;167;01mKeyError\u001b[39;00m \u001b[38;5;28;01mas\u001b[39;00m e:\n\u001b[0;32m   2418\u001b[0m         msg \u001b[38;5;241m=\u001b[39m \u001b[38;5;124mf\u001b[39m\u001b[38;5;124m\"\u001b[39m\u001b[38;5;124munknown file extension: \u001b[39m\u001b[38;5;132;01m{\u001b[39;00mext\u001b[38;5;132;01m}\u001b[39;00m\u001b[38;5;124m\"\u001b[39m\n\u001b[1;32m-> 2419\u001b[0m         \u001b[38;5;28;01mraise\u001b[39;00m \u001b[38;5;167;01mValueError\u001b[39;00m(msg) \u001b[38;5;28;01mfrom\u001b[39;00m \u001b[38;5;21;01me\u001b[39;00m\n\u001b[0;32m   2421\u001b[0m \u001b[38;5;28;01mif\u001b[39;00m \u001b[38;5;28mformat\u001b[39m\u001b[38;5;241m.\u001b[39mupper() \u001b[38;5;129;01mnot\u001b[39;00m \u001b[38;5;129;01min\u001b[39;00m SAVE:\n\u001b[0;32m   2422\u001b[0m     init()\n",
      "\u001b[1;31mValueError\u001b[0m: unknown file extension: "
     ]
    }
   ],
   "source": [
    "def main():\n",
    "    cap = cv2.VideoCapture(0)\n",
    "    draw = mp.solutions.drawing_utils\n",
    "    try:\n",
    "        while cap.isOpened():\n",
    "            ret, frame = cap.read()\n",
    "\n",
    "            if not ret:\n",
    "                break\n",
    "            frame = cv2.flip(frame, 1)\n",
    "            frameRGB = cv2.cvtColor(frame, cv2.COLOR_BGR2RGB)\n",
    "            processed = hands.process(frameRGB)\n",
    "            \n",
    "            landmarks_list = []\n",
    "\n",
    "            if processed.multi_hand_landmarks:\n",
    "                hand_landmarks = processed.multi_hand_landmarks[0]\n",
    "                draw.draw_landmarks(frame, hand_landmarks, mpHands.HAND_CONNECTIONS) # draw.draw_landmarks(where to draw = frame, what=hand_landmarks, which one=hand_landmarks.HAND_CONNECTIONS)\n",
    "                \n",
    "                for lm in hand_landmarks.landmark:\n",
    "                   landmarks_list.append((lm.x, lm.y))\n",
    "            \n",
    "            detect_gestures(frame, landmarks_list, processed)\n",
    "\n",
    "            cv2.imshow('Frame', frame)\n",
    "            if cv2.waitKey(1) & 0xFF == ord('q'): # press q to shut down the camera\n",
    "                break\n",
    "\n",
    "    finally:\n",
    "        cap.release()\n",
    "        cv2.destroyAllWindows()\n",
    "\n",
    "if __name__ == '__main__': # If the code is copied into any other file, it won't run. It will only run here\n",
    "    main()"
   ]
  }
 ],
 "metadata": {
  "kernelspec": {
   "display_name": "Python 3 (ipykernel)",
   "language": "python",
   "name": "python3"
  },
  "language_info": {
   "codemirror_mode": {
    "name": "ipython",
    "version": 3
   },
   "file_extension": ".py",
   "mimetype": "text/x-python",
   "name": "python",
   "nbconvert_exporter": "python",
   "pygments_lexer": "ipython3",
   "version": "3.11.7"
  }
 },
 "nbformat": 4,
 "nbformat_minor": 5
}
